{
  "nbformat": 4,
  "nbformat_minor": 0,
  "metadata": {
    "colab": {
      "name": "Untitled0.ipynb",
      "version": "0.3.2",
      "provenance": [],
      "include_colab_link": true
    },
    "kernelspec": {
      "name": "python3",
      "display_name": "Python 3"
    }
  },
  "cells": [
    {
      "cell_type": "markdown",
      "metadata": {
        "id": "view-in-github",
        "colab_type": "text"
      },
      "source": [
        "<a href=\"https://colab.research.google.com/github/mifm/mifm_test/blob/master/test.ipynb\" target=\"_parent\"><img src=\"https://colab.research.google.com/assets/colab-badge.svg\" alt=\"Open In Colab\"/></a>"
      ]
    },
    {
      "metadata": {
        "id": "mg6GdCassOwB",
        "colab_type": "code",
        "colab": {},
        "collapsed": true
      },
      "cell_type": "code",
      "source": [
        "%%capture\n",
        "!pip install topfarm"
      ],
      "execution_count": 0,
      "outputs": []
    },
    {
      "metadata": {
        "id": "caGddExqvd_M",
        "colab_type": "code",
        "colab": {}
      },
      "cell_type": "code",
      "source": [
        "import numpy as np\n",
        "import os\n",
        "from topfarm.cost_models.dummy import DummyCost\n",
        "from topfarm._topfarm import TopFarmProblem\n",
        "from openmdao.drivers.doe_generators import FullFactorialGenerator\n",
        "from topfarm.plotting import TurbineTypePlotComponent, NoPlot"
      ],
      "execution_count": 0,
      "outputs": []
    },
    {
      "metadata": {
        "id": "Gw6fOvn5v2HR",
        "colab_type": "code",
        "colab": {
          "base_uri": "https://localhost:8080/",
          "height": 1013
        },
        "collapsed": true,
        "outputId": "ae5fc4bb-0d6f-4b9a-e3d5-e9e5511e7e31"
      },
      "cell_type": "code",
      "source": [
        "# ------------------------ INPUTS ------------------------\n",
        "\n",
        "# define the conditions for the wind farm\n",
        "positions = np.array([[0, 0], [6, 6]])  # initial turbine pos\n",
        "optimal_types = np.array([[2], [6]])  # optimal layout\n",
        "\n",
        "# ===============================================================================\n",
        "# Setup the problem and plotting\n",
        "# ===============================================================================\n",
        "\n",
        "try:\n",
        "    import matplotlib.pyplot as plt\n",
        "    plt.gcf()\n",
        "    plot_comp = TurbineTypePlotComponent(\n",
        "        turbine_type_names=[\"Turbine %d\" % i for i in range(10)],\n",
        "        plot_initial=False,\n",
        "        delay=0.1, legendloc=0)\n",
        "    plot = True\n",
        "except RuntimeError:\n",
        "    plot_comp = NoPlot()\n",
        "    plot = False\n",
        "\n",
        "# create the wind farm\n",
        "tf = TopFarmProblem(\n",
        "    design_vars={'type': ([0, 0], 0, 9)},\n",
        "    cost_comp=DummyCost(optimal_types, ['type']),\n",
        "    plot_comp=plot_comp,\n",
        "    driver=FullFactorialGenerator(10))\n",
        "\n",
        "# ===============================================================================\n",
        "# #  Run the optimization\n",
        "# ===============================================================================\n",
        "state = {'x': positions[:, 0], 'y': positions[:, 1]}\n",
        "cost, state, recorder = tf.optimize(state)\n",
        "\n",
        "# ===============================================================================\n",
        "# plot and prin the the final, optimal types\n",
        "# ===============================================================================\n",
        "print(state['type'])\n",
        "tf.evaluate(state)"
      ],
      "execution_count": 15,
      "outputs": [
        {
          "output_type": "stream",
          "text": [
            "WARNING: The following inputs are not connected:\n",
            "   x: ['plot_comp.x']\n",
            "   y: ['plot_comp.y']\n",
            "\n",
            "WARNING: The following inputs are not connected:\n",
            "   x: ['plot_comp.x']\n",
            "   y: ['plot_comp.y']\n",
            "\n"
          ],
          "name": "stdout"
        },
        {
          "output_type": "display_data",
          "data": {
            "image/png": "[encoded data removed]",
            "text/plain": [
              "<matplotlib.figure.Figure at 0x7f80e169e4e0>"
            ]
          },
          "metadata": {
            "tags": []
          }
        },
        {
          "output_type": "stream",
          "text": [
            "WARNING: The following inputs are not connected:\n",
            "   x: ['plot_comp.x']\n",
            "   y: ['plot_comp.y']\n",
            "\n",
            "[2. 6.]\n",
            "WARNING: The following inputs are not connected:\n",
            "   x: ['plot_comp.x']\n",
            "   y: ['plot_comp.y']\n",
            "\n"
          ],
          "name": "stdout"
        },
        {
          "output_type": "execute_result",
          "data": {
            "text/plain": [
              "(0.0, {'type': array([2., 6.])})"
            ]
          },
          "metadata": {
            "tags": []
          },
          "execution_count": 15
        },
        {
          "output_type": "display_data",
          "data": {
            "image/png": "[encoded data removed]",
            "text/plain": [
              "<matplotlib.figure.Figure at 0x7f80e0df07f0>"
            ]
          },
          "metadata": {
            "tags": []
          }
        }
      ]
    },
    {
      "metadata": {
        "id": "JtuhnnkVw6nu",
        "colab_type": "code",
        "colab": {}
      },
      "cell_type": "code",
      "source": [
        ""
      ],
      "execution_count": 0,
      "outputs": []
    }
  ]
}